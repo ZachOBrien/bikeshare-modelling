{
 "cells": [
  {
   "cell_type": "markdown",
   "id": "2e7efabc-3975-46b5-b5e2-b620a8e8785f",
   "metadata": {},
   "source": [
    "# DS4400 Final Project Source Code\n",
    "\n",
    "### Running this notebook will reproduce my graphics and models\n",
    "\n",
    "Zach O'Brien\n",
    "\n",
    "December 2022"
   ]
  },
  {
   "cell_type": "markdown",
   "id": "14544054-5a46-46aa-911d-e88cf6392c6f",
   "metadata": {},
   "source": [
    "# 0. Set up Development Environment\n",
    "\n",
    "This project was developed using **Python version 3.10.5**. Other versions of Python will likely work too, however.\n",
    "\n",
    "This project has the following dependencies:\n",
    "```\n",
    "torch~=1.13\n",
    "tensorflow~=2.11\n",
    "pandas~=1.5\n",
    "scikit-learn~=1.2\n",
    "jupyterlab~=3.5\n",
    "matplotlib~=3.6\n",
    "numpy\n",
    "```"
   ]
  },
  {
   "cell_type": "code",
   "execution_count": 1,
   "id": "8c956cff-b856-40d3-9770-5416db6e8b2f",
   "metadata": {},
   "outputs": [],
   "source": [
    "import numpy as np\n",
    "np.random.seed(9)  # For reproducibility\n",
    "import pandas as pd\n",
    "import matplotlib.pyplot as plt\n",
    "import sklearn\n",
    "from sklearn.model_selection import TimeSeriesSplit\n",
    "import sklearn.linear_model as linear_model\n",
    "from sklearn.metrics import mean_squared_error\n",
    "from sklearn.preprocessing import StandardScaler, MinMaxScaler"
   ]
  },
  {
   "cell_type": "markdown",
   "id": "8d791520-f28b-4c02-abb0-c6372a0b5a1f",
   "metadata": {},
   "source": [
    "# 1. Data Preparation"
   ]
  },
  {
   "cell_type": "markdown",
   "id": "0bc316ef-1147-4841-87e8-88b13652d93c",
   "metadata": {},
   "source": [
    "These are helper functions, this cell can be left minimized:"
   ]
  },
  {
   "cell_type": "code",
   "execution_count": 2,
   "id": "942c4a29-9245-4eed-8b9c-e4abcca98fcc",
   "metadata": {
    "jupyter": {
     "source_hidden": true
    },
    "tags": []
   },
   "outputs": [],
   "source": [
    "def preprocess_bikeshare_data(df, categorical_cols, label_col):\n",
    "    \"\"\"Preprocess the Bikeshare Ridership Data\n",
    "    \n",
    "    One-hot encodes categorical columns, and applies MinMaxScaler to the\n",
    "    label column \"cnt\" because it will be a feature as well as a label\n",
    "    in the time series models.\n",
    "    \n",
    "    Args:\n",
    "        df (pd.DataFrame):\n",
    "            Data\n",
    "        categorical_cols (list[str]):\n",
    "            Names of columns to one-hot encode\n",
    "        label_col (str):\n",
    "            Name of the label column (column with label)\n",
    "    \n",
    "    Returns:\n",
    "        pd.DataFrame, MinMaxScaler:\n",
    "            Data with categorical values one-hot encoded and labels scaled,\n",
    "            and the scaler fit to the original label range\n",
    "    \"\"\"\n",
    "    new_df = one_hot_encode(df, column_names=categorical_cols)\n",
    "    new_df, scaler = min_max_scale(new_df, col=label_col)\n",
    "    return new_df, scaler\n",
    "\n",
    "\n",
    "def min_max_scale(df, col):\n",
    "    \"\"\"Apply MinMax scaling to one column in a DataFrame\n",
    "    \n",
    "    Args:\n",
    "        df (pd.DataFrame):\n",
    "            Data with a column of real values named `col`\n",
    "        col (str):\n",
    "            Name of the column to scale\n",
    "    \n",
    "    Returns:\n",
    "        (pd.Dataframe, MinMaxScaler):\n",
    "            The Data with `col` scaled, as well as the fit MinMaxScaler so that\n",
    "            data can be inverse transformed back into the original scale\n",
    "    \"\"\"\n",
    "    scaler = MinMaxScaler()\n",
    "    df_copy = df.copy()\n",
    "    label_data = df_copy[col].to_numpy().reshape(-1, 1)\n",
    "    scaler.fit(label_data)\n",
    "    df_copy[col] = scaler.transform(label_data)\n",
    "    return df_copy, scaler\n",
    "    \n",
    "    \n",
    "def one_hot_encode(df, column_names):\n",
    "    \"\"\"One-hot encode columns in a DataFrame\n",
    "\n",
    "    Args:\n",
    "        df (pd.DataFrame): \n",
    "            Data\n",
    "        column_names (list[str]): \n",
    "            Names of columns which should be converted to one-hot encoding\n",
    "\n",
    "    Returns:\n",
    "        pd.DataFrame:\n",
    "            Data with the specified columns converted to one-hot encoding\n",
    "    \"\"\"\n",
    "    df_copy = df.copy()\n",
    "    dummies = [pd.get_dummies(df_copy[col], prefix=col) for col in column_names]\n",
    "    df_copy.drop(column_names, axis=1, inplace=True)\n",
    "    return pd.concat(dummies + [df_copy], axis=1)"
   ]
  },
  {
   "cell_type": "code",
   "execution_count": 3,
   "id": "dd10daa6-a385-44d5-a2e0-4b535b7c0a18",
   "metadata": {},
   "outputs": [
    {
     "data": {
      "text/html": [
       "<div>\n",
       "<style scoped>\n",
       "    .dataframe tbody tr th:only-of-type {\n",
       "        vertical-align: middle;\n",
       "    }\n",
       "\n",
       "    .dataframe tbody tr th {\n",
       "        vertical-align: top;\n",
       "    }\n",
       "\n",
       "    .dataframe thead th {\n",
       "        text-align: right;\n",
       "    }\n",
       "</style>\n",
       "<table border=\"1\" class=\"dataframe\">\n",
       "  <thead>\n",
       "    <tr style=\"text-align: right;\">\n",
       "      <th></th>\n",
       "      <th>instant</th>\n",
       "      <th>dteday</th>\n",
       "      <th>season</th>\n",
       "      <th>yr</th>\n",
       "      <th>mnth</th>\n",
       "      <th>holiday</th>\n",
       "      <th>weekday</th>\n",
       "      <th>workingday</th>\n",
       "      <th>weathersit</th>\n",
       "      <th>temp</th>\n",
       "      <th>atemp</th>\n",
       "      <th>hum</th>\n",
       "      <th>windspeed</th>\n",
       "      <th>casual</th>\n",
       "      <th>registered</th>\n",
       "      <th>cnt</th>\n",
       "    </tr>\n",
       "  </thead>\n",
       "  <tbody>\n",
       "    <tr>\n",
       "      <th>0</th>\n",
       "      <td>1</td>\n",
       "      <td>2011-01-01</td>\n",
       "      <td>1</td>\n",
       "      <td>0</td>\n",
       "      <td>1</td>\n",
       "      <td>0</td>\n",
       "      <td>6</td>\n",
       "      <td>0</td>\n",
       "      <td>2</td>\n",
       "      <td>0.344167</td>\n",
       "      <td>0.363625</td>\n",
       "      <td>0.805833</td>\n",
       "      <td>0.160446</td>\n",
       "      <td>331</td>\n",
       "      <td>654</td>\n",
       "      <td>985</td>\n",
       "    </tr>\n",
       "    <tr>\n",
       "      <th>1</th>\n",
       "      <td>2</td>\n",
       "      <td>2011-01-02</td>\n",
       "      <td>1</td>\n",
       "      <td>0</td>\n",
       "      <td>1</td>\n",
       "      <td>0</td>\n",
       "      <td>0</td>\n",
       "      <td>0</td>\n",
       "      <td>2</td>\n",
       "      <td>0.363478</td>\n",
       "      <td>0.353739</td>\n",
       "      <td>0.696087</td>\n",
       "      <td>0.248539</td>\n",
       "      <td>131</td>\n",
       "      <td>670</td>\n",
       "      <td>801</td>\n",
       "    </tr>\n",
       "    <tr>\n",
       "      <th>2</th>\n",
       "      <td>3</td>\n",
       "      <td>2011-01-03</td>\n",
       "      <td>1</td>\n",
       "      <td>0</td>\n",
       "      <td>1</td>\n",
       "      <td>0</td>\n",
       "      <td>1</td>\n",
       "      <td>1</td>\n",
       "      <td>1</td>\n",
       "      <td>0.196364</td>\n",
       "      <td>0.189405</td>\n",
       "      <td>0.437273</td>\n",
       "      <td>0.248309</td>\n",
       "      <td>120</td>\n",
       "      <td>1229</td>\n",
       "      <td>1349</td>\n",
       "    </tr>\n",
       "  </tbody>\n",
       "</table>\n",
       "</div>"
      ],
      "text/plain": [
       "   instant      dteday  season  yr  mnth  holiday  weekday  workingday  \\\n",
       "0        1  2011-01-01       1   0     1        0        6           0   \n",
       "1        2  2011-01-02       1   0     1        0        0           0   \n",
       "2        3  2011-01-03       1   0     1        0        1           1   \n",
       "\n",
       "   weathersit      temp     atemp       hum  windspeed  casual  registered  \\\n",
       "0           2  0.344167  0.363625  0.805833   0.160446     331         654   \n",
       "1           2  0.363478  0.353739  0.696087   0.248539     131         670   \n",
       "2           1  0.196364  0.189405  0.437273   0.248309     120        1229   \n",
       "\n",
       "    cnt  \n",
       "0   985  \n",
       "1   801  \n",
       "2  1349  "
      ]
     },
     "execution_count": 3,
     "metadata": {},
     "output_type": "execute_result"
    }
   ],
   "source": [
    "data_file = \"data/day.csv\"\n",
    "daily_df = pd.read_csv(data_file)\n",
    "daily_df.head(3)"
   ]
  },
  {
   "cell_type": "markdown",
   "id": "c8897166-838f-4b20-ad95-1ea273ea97b8",
   "metadata": {},
   "source": [
    "### Visualization of the daily ridership counts over the span of the dataset"
   ]
  },
  {
   "cell_type": "code",
   "execution_count": 4,
   "id": "0276e574-6896-45fc-a8e6-69430c30d799",
   "metadata": {},
   "outputs": [
    {
     "data": {
      "image/png": "[encoded data removed]",
      "text/plain": [
       "<Figure size 700x400 with 1 Axes>"
      ]
     },
     "metadata": {},
     "output_type": "display_data"
    }
   ],
   "source": [
    "fig, ax = plt.subplots(figsize=(7, 4))\n",
    "ax.plot(daily_df[\"cnt\"])\n",
    "ax.set_xlabel(\"Day (Y-M-D)\")\n",
    "ax.set_ylabel(\"Rider count\")\n",
    "ax.set_title(\"Ridership by Day Through 2011 and 2012\")\n",
    "ax.set_xticks([0, len(daily_df)//2, len(daily_df)], labels=daily_df[\"dteday\"][[0, len(daily_df)//2, len(daily_df)-1]])\n",
    "fig.savefig(\"ridership.jpeg\")\n",
    "plt.show()"
   ]
  },
  {
   "cell_type": "code",
   "execution_count": 5,
   "id": "7dfe0fac-a85b-4b1a-80d9-ab21cb6c2742",
   "metadata": {},
   "outputs": [],
   "source": [
    "# Define which columns we want to keep for model training\n",
    "categorical_columns = [\"season\", \"holiday\", \"weekday\", \"workingday\", \"weathersit\"]\n",
    "continuous_columns = [\"temp\", \"atemp\", \"hum\", \"windspeed\"]\n",
    "feature_columns = categorical_columns + continuous_columns\n",
    "label_column = \"cnt\"\n",
    "# Only keep features and target\n",
    "daily_df = daily_df[feature_columns + [label_column]]"
   ]
  },
  {
   "cell_type": "code",
   "execution_count": 6,
   "id": "0aeaca28-7083-4afa-986e-047e0430030f",
   "metadata": {},
   "outputs": [
    {
     "data": {
      "text/html": [
       "<div>\n",
       "<style scoped>\n",
       "    .dataframe tbody tr th:only-of-type {\n",
       "        vertical-align: middle;\n",
       "    }\n",
       "\n",
       "    .dataframe tbody tr th {\n",
       "        vertical-align: top;\n",
       "    }\n",
       "\n",
       "    .dataframe thead th {\n",
       "        text-align: right;\n",
       "    }\n",
       "</style>\n",
       "<table border=\"1\" class=\"dataframe\">\n",
       "  <thead>\n",
       "    <tr style=\"text-align: right;\">\n",
       "      <th></th>\n",
       "      <th>season_1</th>\n",
       "      <th>season_2</th>\n",
       "      <th>season_3</th>\n",
       "      <th>season_4</th>\n",
       "      <th>holiday_0</th>\n",
       "      <th>holiday_1</th>\n",
       "      <th>weekday_0</th>\n",
       "      <th>weekday_1</th>\n",
       "      <th>weekday_2</th>\n",
       "      <th>weekday_3</th>\n",
       "      <th>...</th>\n",
       "      <th>workingday_0</th>\n",
       "      <th>workingday_1</th>\n",
       "      <th>weathersit_1</th>\n",
       "      <th>weathersit_2</th>\n",
       "      <th>weathersit_3</th>\n",
       "      <th>temp</th>\n",
       "      <th>atemp</th>\n",
       "      <th>hum</th>\n",
       "      <th>windspeed</th>\n",
       "      <th>cnt</th>\n",
       "    </tr>\n",
       "  </thead>\n",
       "  <tbody>\n",
       "    <tr>\n",
       "      <th>count</th>\n",
       "      <td>731.000000</td>\n",
       "      <td>731.000000</td>\n",
       "      <td>731.000000</td>\n",
       "      <td>731.000000</td>\n",
       "      <td>731.000000</td>\n",
       "      <td>731.000000</td>\n",
       "      <td>731.000000</td>\n",
       "      <td>731.000000</td>\n",
       "      <td>731.000000</td>\n",
       "      <td>731.000000</td>\n",
       "      <td>...</td>\n",
       "      <td>731.000000</td>\n",
       "      <td>731.000000</td>\n",
       "      <td>731.000000</td>\n",
       "      <td>731.000000</td>\n",
       "      <td>731.000000</td>\n",
       "      <td>731.000000</td>\n",
       "      <td>731.000000</td>\n",
       "      <td>731.000000</td>\n",
       "      <td>731.000000</td>\n",
       "      <td>731.000000</td>\n",
       "    </tr>\n",
       "    <tr>\n",
       "      <th>mean</th>\n",
       "      <td>0.247606</td>\n",
       "      <td>0.251710</td>\n",
       "      <td>0.257182</td>\n",
       "      <td>0.243502</td>\n",
       "      <td>0.971272</td>\n",
       "      <td>0.028728</td>\n",
       "      <td>0.143639</td>\n",
       "      <td>0.143639</td>\n",
       "      <td>0.142271</td>\n",
       "      <td>0.142271</td>\n",
       "      <td>...</td>\n",
       "      <td>0.316005</td>\n",
       "      <td>0.683995</td>\n",
       "      <td>0.633379</td>\n",
       "      <td>0.337893</td>\n",
       "      <td>0.028728</td>\n",
       "      <td>0.495385</td>\n",
       "      <td>0.474354</td>\n",
       "      <td>0.627894</td>\n",
       "      <td>0.190486</td>\n",
       "      <td>0.515687</td>\n",
       "    </tr>\n",
       "    <tr>\n",
       "      <th>std</th>\n",
       "      <td>0.431917</td>\n",
       "      <td>0.434293</td>\n",
       "      <td>0.437380</td>\n",
       "      <td>0.429489</td>\n",
       "      <td>0.167155</td>\n",
       "      <td>0.167155</td>\n",
       "      <td>0.350963</td>\n",
       "      <td>0.350963</td>\n",
       "      <td>0.349567</td>\n",
       "      <td>0.349567</td>\n",
       "      <td>...</td>\n",
       "      <td>0.465233</td>\n",
       "      <td>0.465233</td>\n",
       "      <td>0.482212</td>\n",
       "      <td>0.473316</td>\n",
       "      <td>0.167155</td>\n",
       "      <td>0.183051</td>\n",
       "      <td>0.162961</td>\n",
       "      <td>0.142429</td>\n",
       "      <td>0.077498</td>\n",
       "      <td>0.222873</td>\n",
       "    </tr>\n",
       "    <tr>\n",
       "      <th>min</th>\n",
       "      <td>0.000000</td>\n",
       "      <td>0.000000</td>\n",
       "      <td>0.000000</td>\n",
       "      <td>0.000000</td>\n",
       "      <td>0.000000</td>\n",
       "      <td>0.000000</td>\n",
       "      <td>0.000000</td>\n",
       "      <td>0.000000</td>\n",
       "      <td>0.000000</td>\n",
       "      <td>0.000000</td>\n",
       "      <td>...</td>\n",
       "      <td>0.000000</td>\n",
       "      <td>0.000000</td>\n",
       "      <td>0.000000</td>\n",
       "      <td>0.000000</td>\n",
       "      <td>0.000000</td>\n",
       "      <td>0.059130</td>\n",
       "      <td>0.079070</td>\n",
       "      <td>0.000000</td>\n",
       "      <td>0.022392</td>\n",
       "      <td>0.000000</td>\n",
       "    </tr>\n",
       "    <tr>\n",
       "      <th>25%</th>\n",
       "      <td>0.000000</td>\n",
       "      <td>0.000000</td>\n",
       "      <td>0.000000</td>\n",
       "      <td>0.000000</td>\n",
       "      <td>1.000000</td>\n",
       "      <td>0.000000</td>\n",
       "      <td>0.000000</td>\n",
       "      <td>0.000000</td>\n",
       "      <td>0.000000</td>\n",
       "      <td>0.000000</td>\n",
       "      <td>...</td>\n",
       "      <td>0.000000</td>\n",
       "      <td>0.000000</td>\n",
       "      <td>0.000000</td>\n",
       "      <td>0.000000</td>\n",
       "      <td>0.000000</td>\n",
       "      <td>0.337083</td>\n",
       "      <td>0.337842</td>\n",
       "      <td>0.520000</td>\n",
       "      <td>0.134950</td>\n",
       "      <td>0.360101</td>\n",
       "    </tr>\n",
       "    <tr>\n",
       "      <th>50%</th>\n",
       "      <td>0.000000</td>\n",
       "      <td>0.000000</td>\n",
       "      <td>0.000000</td>\n",
       "      <td>0.000000</td>\n",
       "      <td>1.000000</td>\n",
       "      <td>0.000000</td>\n",
       "      <td>0.000000</td>\n",
       "      <td>0.000000</td>\n",
       "      <td>0.000000</td>\n",
       "      <td>0.000000</td>\n",
       "      <td>...</td>\n",
       "      <td>0.000000</td>\n",
       "      <td>1.000000</td>\n",
       "      <td>1.000000</td>\n",
       "      <td>0.000000</td>\n",
       "      <td>0.000000</td>\n",
       "      <td>0.498333</td>\n",
       "      <td>0.486733</td>\n",
       "      <td>0.626667</td>\n",
       "      <td>0.180975</td>\n",
       "      <td>0.520709</td>\n",
       "    </tr>\n",
       "    <tr>\n",
       "      <th>75%</th>\n",
       "      <td>0.000000</td>\n",
       "      <td>1.000000</td>\n",
       "      <td>1.000000</td>\n",
       "      <td>0.000000</td>\n",
       "      <td>1.000000</td>\n",
       "      <td>0.000000</td>\n",
       "      <td>0.000000</td>\n",
       "      <td>0.000000</td>\n",
       "      <td>0.000000</td>\n",
       "      <td>0.000000</td>\n",
       "      <td>...</td>\n",
       "      <td>1.000000</td>\n",
       "      <td>1.000000</td>\n",
       "      <td>1.000000</td>\n",
       "      <td>1.000000</td>\n",
       "      <td>0.000000</td>\n",
       "      <td>0.655417</td>\n",
       "      <td>0.608602</td>\n",
       "      <td>0.730209</td>\n",
       "      <td>0.233214</td>\n",
       "      <td>0.682697</td>\n",
       "    </tr>\n",
       "    <tr>\n",
       "      <th>max</th>\n",
       "      <td>1.000000</td>\n",
       "      <td>1.000000</td>\n",
       "      <td>1.000000</td>\n",
       "      <td>1.000000</td>\n",
       "      <td>1.000000</td>\n",
       "      <td>1.000000</td>\n",
       "      <td>1.000000</td>\n",
       "      <td>1.000000</td>\n",
       "      <td>1.000000</td>\n",
       "      <td>1.000000</td>\n",
       "      <td>...</td>\n",
       "      <td>1.000000</td>\n",
       "      <td>1.000000</td>\n",
       "      <td>1.000000</td>\n",
       "      <td>1.000000</td>\n",
       "      <td>1.000000</td>\n",
       "      <td>0.861667</td>\n",
       "      <td>0.840896</td>\n",
       "      <td>0.972500</td>\n",
       "      <td>0.507463</td>\n",
       "      <td>1.000000</td>\n",
       "    </tr>\n",
       "  </tbody>\n",
       "</table>\n",
       "<p>8 rows × 23 columns</p>\n",
       "</div>"
      ],
      "text/plain": [
       "         season_1    season_2    season_3    season_4   holiday_0   holiday_1  \\\n",
       "count  731.000000  731.000000  731.000000  731.000000  731.000000  731.000000   \n",
       "mean     0.247606    0.251710    0.257182    0.243502    0.971272    0.028728   \n",
       "std      0.431917    0.434293    0.437380    0.429489    0.167155    0.167155   \n",
       "min      0.000000    0.000000    0.000000    0.000000    0.000000    0.000000   \n",
       "25%      0.000000    0.000000    0.000000    0.000000    1.000000    0.000000   \n",
       "50%      0.000000    0.000000    0.000000    0.000000    1.000000    0.000000   \n",
       "75%      0.000000    1.000000    1.000000    0.000000    1.000000    0.000000   \n",
       "max      1.000000    1.000000    1.000000    1.000000    1.000000    1.000000   \n",
       "\n",
       "        weekday_0   weekday_1   weekday_2   weekday_3  ...  workingday_0  \\\n",
       "count  731.000000  731.000000  731.000000  731.000000  ...    731.000000   \n",
       "mean     0.143639    0.143639    0.142271    0.142271  ...      0.316005   \n",
       "std      0.350963    0.350963    0.349567    0.349567  ...      0.465233   \n",
       "min      0.000000    0.000000    0.000000    0.000000  ...      0.000000   \n",
       "25%      0.000000    0.000000    0.000000    0.000000  ...      0.000000   \n",
       "50%      0.000000    0.000000    0.000000    0.000000  ...      0.000000   \n",
       "75%      0.000000    0.000000    0.000000    0.000000  ...      1.000000   \n",
       "max      1.000000    1.000000    1.000000    1.000000  ...      1.000000   \n",
       "\n",
       "       workingday_1  weathersit_1  weathersit_2  weathersit_3        temp  \\\n",
       "count    731.000000    731.000000    731.000000    731.000000  731.000000   \n",
       "mean       0.683995      0.633379      0.337893      0.028728    0.495385   \n",
       "std        0.465233      0.482212      0.473316      0.167155    0.183051   \n",
       "min        0.000000      0.000000      0.000000      0.000000    0.059130   \n",
       "25%        0.000000      0.000000      0.000000      0.000000    0.337083   \n",
       "50%        1.000000      1.000000      0.000000      0.000000    0.498333   \n",
       "75%        1.000000      1.000000      1.000000      0.000000    0.655417   \n",
       "max        1.000000      1.000000      1.000000      1.000000    0.861667   \n",
       "\n",
       "            atemp         hum   windspeed         cnt  \n",
       "count  731.000000  731.000000  731.000000  731.000000  \n",
       "mean     0.474354    0.627894    0.190486    0.515687  \n",
       "std      0.162961    0.142429    0.077498    0.222873  \n",
       "min      0.079070    0.000000    0.022392    0.000000  \n",
       "25%      0.337842    0.520000    0.134950    0.360101  \n",
       "50%      0.486733    0.626667    0.180975    0.520709  \n",
       "75%      0.608602    0.730209    0.233214    0.682697  \n",
       "max      0.840896    0.972500    0.507463    1.000000  \n",
       "\n",
       "[8 rows x 23 columns]"
      ]
     },
     "execution_count": 6,
     "metadata": {},
     "output_type": "execute_result"
    }
   ],
   "source": [
    "# Preprocess the data by one-hot encoding the categorical features\n",
    "# and MinMaxScale-ing the label, because it will also be used as a feature (the previous day's count)\n",
    "preprocessed_daily_df, daily_label_scaler = preprocess_bikeshare_data(daily_df, categorical_cols=categorical_columns, label_col=label_column)\n",
    "preprocessed_daily_df.describe()"
   ]
  },
  {
   "cell_type": "code",
   "execution_count": 7,
   "id": "6b1f189f-60c4-4ad6-877f-71cd3f333b15",
   "metadata": {},
   "outputs": [],
   "source": [
    "BEST_MODEL_PERFORMANCES = {\"baseline\": {\"train\": 0, \"test\": 0}, \n",
    "                           \"ridge\": {\"train\": 0, \"test\": 0}, \n",
    "                           \"feedforward\": {\"train\": 0, \"test\": 0}, \n",
    "                           \"lstm\": {\"train\": 0, \"test\": 0}}"
   ]
  },
  {
   "cell_type": "markdown",
   "id": "09d231f4-a8da-4323-9c95-6d29bec6578e",
   "metadata": {},
   "source": [
    "# 2. Non-LSTM Models Training and Evaluation"
   ]
  },
  {
   "cell_type": "markdown",
   "id": "f1eace93-de5d-468a-9619-cd0e86714fc4",
   "metadata": {},
   "source": [
    "## 2.1 Create Cross Validation Data for All Models Except LSTM Model\n",
    "\n",
    "The LSTM model will be trained on hourly data instead of daily data to predict the next day's count. So, its data preparation will be a little different."
   ]
  },
  {
   "cell_type": "code",
   "execution_count": 8,
   "id": "80efd00c-6e0c-44da-bae6-85325e997079",
   "metadata": {},
   "outputs": [
    {
     "name": "stdout",
     "output_type": "stream",
     "text": [
      "Inputs have shape: (730, 23)\n",
      "Labels have shape: (730, 1)\n"
     ]
    }
   ],
   "source": [
    "X = preprocessed_daily_df.iloc[:-1, :].to_numpy()\n",
    "y = preprocessed_daily_df[[label_column]].iloc[1:, :].to_numpy()\n",
    "\n",
    "print(f\"Inputs have shape: {X.shape}\")\n",
    "print(f\"Labels have shape: {y.shape}\")"
   ]
  },
  {
   "cell_type": "code",
   "execution_count": 9,
   "id": "087eceeb-e35c-422f-8d7b-2e1236a32bc2",
   "metadata": {},
   "outputs": [],
   "source": [
    "def create_timeseries_crossval_splits(data, n_splits):\n",
    "    \"\"\"Create train and validation sets for timeseries cross validation\n",
    "    \n",
    "    Args:\n",
    "        data (ndarray): 2D array of input samples\n",
    "        n_splits (int): Number of subsets for cross validation\n",
    "    \n",
    "    Returns:\n",
    "        list[tuple]: Each tuple is (TRAIN_INDICES, VALIDATION_INDICES)\n",
    "    \"\"\"\n",
    "    timeseries_crossval = TimeSeriesSplit(n_splits=5)\n",
    "    return list(timeseries_crossval.split(data))"
   ]
  },
  {
   "cell_type": "code",
   "execution_count": 10,
   "id": "ff20ac01-adc6-4cf7-8f07-fa0435e99e0f",
   "metadata": {},
   "outputs": [
    {
     "name": "stdout",
     "output_type": "stream",
     "text": [
      "Total dataset size: 730\n",
      "Train and validation set size: 630\n",
      "Holdout test size: 100\n"
     ]
    }
   ],
   "source": [
    "# Test set will be the last 100 days of data\n",
    "train_set_size = len(X) - 100\n",
    "\n",
    "X_train_and_val = X[:train_set_size]\n",
    "y_train_and_val = y[:train_set_size]\n",
    "X_test = X[train_set_size:]\n",
    "y_test = y[train_set_size:]\n",
    "\n",
    "# Create TRAIN, VALIDATION, and TEST sets for time series cross validation\n",
    "crossval_indices = create_timeseries_crossval_splits(X_train_and_val, n_splits=5)\n",
    "\n",
    "print(f\"Total dataset size: {len(X)}\")\n",
    "print(f\"Train and validation set size: {len(X_train_and_val)}\")\n",
    "print(f\"Holdout test size: {len(X_test)}\")"
   ]
  },
  {
   "cell_type": "markdown",
   "id": "9612e448-c6e1-4d93-99f3-1225c5e6a0ec",
   "metadata": {},
   "source": [
    "## 2.2 Naive Baseline Model"
   ]
  },
  {
   "cell_type": "code",
   "execution_count": 11,
   "id": "37e86857-f82d-4fb4-a5f6-21c7aeb35bd5",
   "metadata": {},
   "outputs": [],
   "source": [
    "def baseline_model(input_vectors, cnt_col):\n",
    "    \"\"\"A naive model which simply uses the previous day's count\n",
    "       as the prediction for today\"\"\"\n",
    "    return input_vectors[:, cnt_col]"
   ]
  },
  {
   "cell_type": "code",
   "execution_count": 12,
   "id": "03315818-e2bb-417e-9fa5-7d5990eb9444",
   "metadata": {},
   "outputs": [],
   "source": [
    "def get_rmse_baseline_model(model, X, y, scaler, cnt_col):\n",
    "    baseline_predictions = model(X, cnt_col)\n",
    "    rmse = np.average(mean_squared_error(y, baseline_predictions, squared=False))\n",
    "    # The count was MinMaxScaled to use in model training. But for better interpretability of\n",
    "    # the results, it is transformed back to its original value here\n",
    "    rmse = scaler.inverse_transform(rmse.reshape(-1, 1))\n",
    "    return rmse"
   ]
  },
  {
   "cell_type": "code",
   "execution_count": 13,
   "id": "e4c3afb3-c51a-4726-b0a5-0f1b59a14211",
   "metadata": {},
   "outputs": [
    {
     "name": "stdout",
     "output_type": "stream",
     "text": [
      "1035.6402824583395\n",
      "1363.4416200491169\n"
     ]
    }
   ],
   "source": [
    "# The column with the previous day's count is the last item in the vector\n",
    "RIDERSHIP_COUNT_IDX = X.shape[1] - 1  \n",
    "\n",
    "baseline_rmse_train = get_rmse_baseline_model(baseline_model, X_train_and_val, y_train_and_val, daily_label_scaler, RIDERSHIP_COUNT_IDX)[0][0]\n",
    "baseline_rmse_test = get_rmse_baseline_model(baseline_model, X_test, y_test, daily_label_scaler, RIDERSHIP_COUNT_IDX)[0][0]\n",
    "\n",
    "print(baseline_rmse_train)\n",
    "print(baseline_rmse_test)\n",
    "\n",
    "BEST_MODEL_PERFORMANCES[\"baseline\"][\"train\"] = baseline_rmse_train\n",
    "BEST_MODEL_PERFORMANCES[\"baseline\"][\"test\"] = baseline_rmse_test"
   ]
  },
  {
   "cell_type": "code",
   "execution_count": 14,
   "id": "8471aef2-a22c-41d1-854c-046ad4809521",
   "metadata": {},
   "outputs": [
    {
     "data": {
      "text/plain": [
       "{'baseline': {'train': 1035.6402824583395, 'test': 1363.4416200491169},\n",
       " 'ridge': {'train': 0, 'test': 0},\n",
       " 'feedforward': {'train': 0, 'test': 0},\n",
       " 'lstm': {'train': 0, 'test': 0}}"
      ]
     },
     "execution_count": 14,
     "metadata": {},
     "output_type": "execute_result"
    }
   ],
   "source": [
    "BEST_MODEL_PERFORMANCES"
   ]
  },
  {
   "cell_type": "markdown",
   "id": "4923885f-3c99-4379-b210-0e04bc1c637c",
   "metadata": {},
   "source": [
    "## 2.3 Ridge Regression Model"
   ]
  },
  {
   "cell_type": "code",
   "execution_count": 15,
   "id": "bbe11d68-0021-4e5e-a487-f7277487398c",
   "metadata": {},
   "outputs": [],
   "source": [
    "def evaluate_linear_model(model, X, y, ts_crossvalidation_indices):\n",
    "    \"\"\"Evaluate a linear model using timeseries cross validation\n",
    "    \n",
    "    Args:\n",
    "        model: A class which can be trained with .fit() and has .predict() to make predictions\n",
    "        X (ndarray): A 2D array of float values, inputs to the model\n",
    "        y (ndarray): A 1d array of float values, labels for the inputs\n",
    "        ts_crossvalidation_indices(list[tuple]): A list of indices for training and testing sets\n",
    "                                                 to perform timeseries cross validation\n",
    "    \n",
    "    Returns:\n",
    "        list[float], model: RMSE scores for each cross validation subset, and the final trained model\n",
    "    \"\"\"\n",
    "    rmse_scores = []\n",
    "    for train_indices, validation_indices in ts_crossvalidation_indices:\n",
    "        model = sklearn.base.clone(model)  # Reset the model parameters\n",
    "        X_train, y_train = X[train_indices], y[train_indices]\n",
    "        X_validation, y_validation = X[validation_indices], y[validation_indices]\n",
    "        model.fit(X_train, y_train)\n",
    "        predictions = model.predict(X_validation)\n",
    "        rmse_scores.append(mean_squared_error(y_validation, predictions, squared=False))\n",
    "    return rmse_scores, model"
   ]
  },
  {
   "cell_type": "code",
   "execution_count": 16,
   "id": "7bdff461-e202-492f-be39-24f6c09ec8b3",
   "metadata": {},
   "outputs": [],
   "source": [
    "alphas = [1e-5, 1e-4, 1e-3, 1e-2, 1e-1, 1, 10]\n",
    "avg_rmse_by_alpha = []\n",
    "ridge_models = []\n",
    "for alpha in alphas:\n",
    "    rmse_scores_ridge, model = evaluate_linear_model(linear_model.Ridge(alpha=alpha), X_train_and_val, y_train_and_val, crossval_indices)\n",
    "    avg_rmse_ridge = daily_label_scaler.inverse_transform(np.average(rmse_scores_ridge).reshape(-1, 1))\n",
    "    avg_rmse_by_alpha.append(avg_rmse_ridge[0][0])\n",
    "    ridge_models.append(model)"
   ]
  },
  {
   "cell_type": "code",
   "execution_count": 17,
   "id": "bfdff5c0-6576-4966-8f5c-80dfe7e418cd",
   "metadata": {},
   "outputs": [
    {
     "data": {
      "image/png": "[encoded data removed]",
      "text/plain": [
       "<Figure size 640x480 with 1 Axes>"
      ]
     },
     "metadata": {},
     "output_type": "display_data"
    }
   ],
   "source": [
    "fig, ax = plt.subplots()\n",
    "ax.plot(avg_rmse_by_alpha, label=\"Average RMSE\")\n",
    "ax.set_xticks(range(len(alphas)))\n",
    "ax.set_xticklabels(alphas)\n",
    "ax.set_xlabel(\"alpha\")\n",
    "ax.set_ylabel(\"Mean RMSE\")\n",
    "ax.set_title(\"Ridge Regression Mean Cross Validation RMSE by alpha\")\n",
    "ax.legend()\n",
    "fig.savefig(\"ridge_regression_hyperparameter_tuning.jpeg\")\n",
    "plt.show()"
   ]
  },
  {
   "cell_type": "markdown",
   "id": "8d94cebf-8c02-4292-9203-909932e587aa",
   "metadata": {},
   "source": [
    "### 2.3.1 Evaluate Best Ridge Regression Model on Train and Test Sets"
   ]
  },
  {
   "cell_type": "code",
   "execution_count": 18,
   "id": "e149cb8a-be6f-4d51-b79b-10f3ed08bca5",
   "metadata": {},
   "outputs": [
    {
     "name": "stdout",
     "output_type": "stream",
     "text": [
      "Ridge(alpha=0.01)\n"
     ]
    }
   ],
   "source": [
    "best_model_index = np.argmin(avg_rmse_by_alpha)\n",
    "best_ridge_model = ridge_models[best_model_index]\n",
    "print(best_ridge_model)"
   ]
  },
  {
   "cell_type": "code",
   "execution_count": 19,
   "id": "490e72fd-42ee-473b-876b-d4e914fbec24",
   "metadata": {},
   "outputs": [],
   "source": [
    "def get_rmse_ridge_model(model, X, y, scaler):\n",
    "    ridge_predictions = model.predict(X)\n",
    "    rmse = np.average(mean_squared_error(y, ridge_predictions, squared=False))\n",
    "    # The count was MinMaxScaled to use in model training. But for better interpretability of\n",
    "    # the results, it is transformed back to its original value here\n",
    "    rmse = daily_label_scaler.inverse_transform(rmse.reshape(-1, 1))\n",
    "    return rmse"
   ]
  },
  {
   "cell_type": "code",
   "execution_count": 20,
   "id": "6fe5d619-df33-4d40-9281-a19e60f52103",
   "metadata": {},
   "outputs": [
    {
     "name": "stdout",
     "output_type": "stream",
     "text": [
      "969.015421603825\n",
      "1307.4153172253216\n"
     ]
    }
   ],
   "source": [
    "best_model_rmse_train = get_rmse_ridge_model(best_ridge_model, X_train_and_val, y_train_and_val, daily_label_scaler)[0][0]\n",
    "best_model_rmse_test = get_rmse_ridge_model(best_ridge_model, X_test, y_test, daily_label_scaler)[0][0]\n",
    "print(best_model_rmse_train)\n",
    "print(best_model_rmse_test)\n",
    "\n",
    "BEST_MODEL_PERFORMANCES[\"ridge\"][\"train\"] = best_model_rmse_train\n",
    "BEST_MODEL_PERFORMANCES[\"ridge\"][\"test\"] = best_model_rmse_test"
   ]
  },
  {
   "cell_type": "code",
   "execution_count": 21,
   "id": "bf1aa184-825c-4740-b864-e150231eb893",
   "metadata": {},
   "outputs": [
    {
     "data": {
      "text/plain": [
       "{'baseline': {'train': 1035.6402824583395, 'test': 1363.4416200491169},\n",
       " 'ridge': {'train': 969.015421603825, 'test': 1307.4153172253216},\n",
       " 'feedforward': {'train': 0, 'test': 0},\n",
       " 'lstm': {'train': 0, 'test': 0}}"
      ]
     },
     "execution_count": 21,
     "metadata": {},
     "output_type": "execute_result"
    }
   ],
   "source": [
    "BEST_MODEL_PERFORMANCES"
   ]
  },
  {
   "cell_type": "markdown",
   "id": "358259c2-6f54-47d7-8b46-6bd764ccfcea",
   "metadata": {
    "tags": []
   },
   "source": [
    "## 2.4 Feedforward Neural Network"
   ]
  },
  {
   "cell_type": "code",
   "execution_count": 22,
   "id": "ef913afc-07b2-4516-8367-e4f2d0349133",
   "metadata": {},
   "outputs": [],
   "source": [
    "import torch\n",
    "from torch import nn\n",
    "from torch.utils.data import Dataset\n",
    "from torch.utils.data import DataLoader"
   ]
  },
  {
   "cell_type": "markdown",
   "id": "ed9b7b32-3bfc-46a4-96dd-3aa37c7c55b1",
   "metadata": {},
   "source": [
    "### 2.4.1 Build Model Architecture"
   ]
  },
  {
   "cell_type": "code",
   "execution_count": 23,
   "id": "746412f4-369c-46ca-a33c-191d116cf122",
   "metadata": {},
   "outputs": [],
   "source": [
    "class BikeshareDataset(Dataset):\n",
    "    def __init__(self, X, y):\n",
    "        self.X = torch.from_numpy(X).float()\n",
    "        self.y = torch.from_numpy(y).float()\n",
    "        self.dataset_size = len(self.y)\n",
    "    \n",
    "    def __len__(self):\n",
    "        return self.dataset_size\n",
    "        \n",
    "    def __getitem__(self, idx):\n",
    "        feature_vec = self.X[idx]\n",
    "        label = self.y[idx]\n",
    "        return feature_vec, label\n",
    "    \n",
    "    \n",
    "class NeuralNetwork(nn.Module):\n",
    "    def __init__(self):\n",
    "        super(NeuralNetwork, self).__init__()\n",
    "        self.linear_relu_stack = nn.Sequential(\n",
    "            nn.Linear(23, 32),\n",
    "            nn.ReLU(),\n",
    "            nn.Linear(32, 32),\n",
    "            nn.ReLU(),\n",
    "            nn.Linear(32, 1)\n",
    "        )\n",
    "\n",
    "    def forward(self, x):\n",
    "        return self.linear_relu_stack(x)\n",
    "    "
   ]
  },
  {
   "cell_type": "code",
   "execution_count": 24,
   "id": "f6f338d6-a604-4e91-908c-e191457fd78f",
   "metadata": {},
   "outputs": [],
   "source": [
    "def train_loop(dataloader, model, loss_fn, optimizer):\n",
    "    size = len(dataloader.dataset)\n",
    "    for batch, (X, y) in enumerate(dataloader):\n",
    "        pred = model(X)\n",
    "        loss = loss_fn(pred, y)\n",
    "\n",
    "        # Backpropagation\n",
    "        optimizer.zero_grad()\n",
    "        loss.backward()\n",
    "        optimizer.step()\n",
    "\n",
    "\n",
    "def test_loop(dataloader, model):\n",
    "    size = len(dataloader.dataset)\n",
    "    num_batches = len(dataloader)\n",
    "    error = 0\n",
    "    with torch.no_grad():\n",
    "        for X, y in dataloader:\n",
    "            pred = model(X).numpy()\n",
    "            error += mean_squared_error(y.numpy(), pred, squared=False)   \n",
    "    error /= num_batches\n",
    "    return error"
   ]
  },
  {
   "cell_type": "markdown",
   "id": "530e1c44-f40c-4ebe-a010-f6aa5e9660fe",
   "metadata": {},
   "source": [
    "### 2.4.2 Run Cross Validation With Different Hyperparameter Configurations to Find Best Model"
   ]
  },
  {
   "cell_type": "code",
   "execution_count": 25,
   "id": "374f8c40-4e9d-4d4b-95c6-a9fc0572e705",
   "metadata": {},
   "outputs": [
    {
     "name": "stdout",
     "output_type": "stream",
     "text": [
      "Training with configuration: (loss_fn=MSELoss(), lr=0.01)\n"
     ]
    },
    {
     "name": "stderr",
     "output_type": "stream",
     "text": [
      "/home/zach/Desktop/ds4400/final-project/env/lib/python3.10/site-packages/torch/autograd/__init__.py:197: UserWarning: CUDA initialization: Unexpected error from cudaGetDeviceCount(). Did you run some cuda functions before calling NumCudaDevices() that might have already set an error? Error 804: forward compatibility was attempted on non supported HW (Triggered internally at ../c10/cuda/CUDAFunctions.cpp:109.)\n",
      "  Variable._execution_engine.run_backward(  # Calls into the C++ engine to run the backward pass\n"
     ]
    },
    {
     "name": "stdout",
     "output_type": "stream",
     "text": [
      "Training with configuration: (loss_fn=MSELoss(), lr=0.001)\n",
      "Training with configuration: (loss_fn=L1Loss(), lr=0.01)\n",
      "Training with configuration: (loss_fn=L1Loss(), lr=0.001)\n"
     ]
    }
   ],
   "source": [
    "n_epochs = 50\n",
    "configurations = [(nn.MSELoss(), 1e-2),\n",
    "                  (nn.MSELoss(), 1e-3),\n",
    "                  (nn.L1Loss(), 1e-2),\n",
    "                  (nn.L1Loss(), 1e-3)]\n",
    "\n",
    "mean_validation_rmse_by_configuration = []\n",
    "\n",
    "# Run cross validation for each hyperparameter configuration.\n",
    "# For each configuration, train K models over all of the cross validation splits\n",
    "# and compute the average RMSE. The average RMSE over the cross validation splits\n",
    "# is that configuration's score.\n",
    "for loss_fn, learning_rate in configurations:\n",
    "    print(f\"Training with configuration: (loss_fn={loss_fn}, lr={learning_rate})\")\n",
    "    rmse_scores_feedforward_nn = []\n",
    "    for train_indices, validation_indices in crossval_indices:\n",
    "        model = NeuralNetwork()  # Create a new model to train\n",
    "        optimizer = torch.optim.SGD(model.parameters(), lr=learning_rate)\n",
    "        train_dataloader = DataLoader(BikeshareDataset(X_train_and_val[train_indices], y_train_and_val[train_indices]), batch_size=64, shuffle=False)\n",
    "        validation_dataloader = DataLoader(BikeshareDataset(X_train_and_val[validation_indices], y_train_and_val[validation_indices]), batch_size=64, shuffle=False)\n",
    "        epochs = n_epochs\n",
    "        for _ in range(epochs):\n",
    "            train_loop(train_dataloader, model, loss_fn, optimizer)\n",
    "        rmse_scores_feedforward_nn.append(test_loop(validation_dataloader, model))\n",
    "\n",
    "    mean_rmse_feedforward_nn = daily_label_scaler.inverse_transform(np.average(rmse_scores_feedforward_nn).reshape(-1, 1))\n",
    "    mean_validation_rmse_by_configuration.append((mean_rmse_feedforward_nn[0][0], (loss_fn, learning_rate), model))\n"
   ]
  },
  {
   "cell_type": "code",
   "execution_count": 26,
   "id": "bc871562-b8ab-450b-ac04-703ec521c26f",
   "metadata": {},
   "outputs": [
    {
     "name": "stdout",
     "output_type": "stream",
     "text": [
      "(L1Loss(), 0.01)\n"
     ]
    }
   ],
   "source": [
    "best_rmse, best_config, best_model = min(mean_validation_rmse_by_configuration, key = lambda t: t[0])\n",
    "print(best_config)"
   ]
  },
  {
   "cell_type": "markdown",
   "id": "b844d24c-ea24-4110-aea4-40ecc41d56ff",
   "metadata": {},
   "source": [
    "### 2.4.3 Evaluate the Best Model on Train and Test Sets"
   ]
  },
  {
   "cell_type": "code",
   "execution_count": 27,
   "id": "77be801c-4799-474e-8cee-76154abcbe7b",
   "metadata": {},
   "outputs": [],
   "source": [
    "def get_rmse_feedforward_nn_model(model, dataloader, scaler):\n",
    "    rmse = test_loop(dataloader, model)\n",
    "    rmse = daily_label_scaler.inverse_transform(rmse.reshape(-1, 1))\n",
    "    return rmse"
   ]
  },
  {
   "cell_type": "code",
   "execution_count": 28,
   "id": "39b4051a-7202-49f8-9aa1-739bc85c15ae",
   "metadata": {},
   "outputs": [
    {
     "name": "stdout",
     "output_type": "stream",
     "text": [
      "1434.8140897065398\n",
      "1621.794731646776\n"
     ]
    }
   ],
   "source": [
    "train_dataloader = DataLoader(BikeshareDataset(X_train_and_val, y_train_and_val), batch_size=64, shuffle=False)\n",
    "test_dataloader = DataLoader(BikeshareDataset(X_test, y_test), batch_size=64, shuffle=False)\n",
    "\n",
    "best_model_rmse_train = get_rmse_feedforward_nn_model(best_model, train_dataloader, daily_label_scaler)[0][0]\n",
    "best_model_rmse_test = get_rmse_feedforward_nn_model(best_model, test_dataloader, daily_label_scaler)[0][0]\n",
    "print(best_model_rmse_train)\n",
    "print(best_model_rmse_test)\n",
    "\n",
    "BEST_MODEL_PERFORMANCES[\"feedforward\"][\"train\"] = best_model_rmse_train\n",
    "BEST_MODEL_PERFORMANCES[\"feedforward\"][\"test\"] = best_model_rmse_test"
   ]
  },
  {
   "cell_type": "code",
   "execution_count": 29,
   "id": "54395725-7596-49ca-b591-983c99af1210",
   "metadata": {},
   "outputs": [
    {
     "data": {
      "text/plain": [
       "{'baseline': {'train': 1035.6402824583395, 'test': 1363.4416200491169},\n",
       " 'ridge': {'train': 969.015421603825, 'test': 1307.4153172253216},\n",
       " 'feedforward': {'train': 1434.8140897065398, 'test': 1621.794731646776},\n",
       " 'lstm': {'train': 0, 'test': 0}}"
      ]
     },
     "execution_count": 29,
     "metadata": {},
     "output_type": "execute_result"
    }
   ],
   "source": [
    "BEST_MODEL_PERFORMANCES"
   ]
  },
  {
   "cell_type": "markdown",
   "id": "97064358-1d1d-42bf-aa7c-3b39af2bf6fd",
   "metadata": {},
   "source": [
    "# 3. Long Short Term Memory (LSTM) Model"
   ]
  },
  {
   "cell_type": "markdown",
   "id": "60789f17-b555-4667-bda1-2027d9bfdae6",
   "metadata": {},
   "source": [
    "### 3.1 Data Preparation"
   ]
  },
  {
   "cell_type": "code",
   "execution_count": 30,
   "id": "a13026ef-4f8b-47b4-9c4d-66d8842474ae",
   "metadata": {},
   "outputs": [],
   "source": [
    "import os\n",
    "os.environ[\"TF_CPP_MIN_LOG_LEVEL\"] = \"3\"  # Suppress tensorflow debugging info\n",
    "import keras\n",
    "from keras.utils import timeseries_dataset_from_array\n",
    "from keras.models import Sequential\n",
    "from keras.layers import Dense, LSTM, Dropout\n",
    "from keras.optimizers import Adam, SGD"
   ]
  },
  {
   "cell_type": "code",
   "execution_count": 31,
   "id": "c74b091c-780d-4c21-be4a-eead8cf11228",
   "metadata": {},
   "outputs": [],
   "source": [
    "data_file = \"data/hour.csv\"\n",
    "hourly_df = pd.read_csv(data_file)"
   ]
  },
  {
   "cell_type": "code",
   "execution_count": 32,
   "id": "86805e64-a274-41f2-9466-be057581ca1c",
   "metadata": {},
   "outputs": [],
   "source": [
    "def nearest_fill_missing_hours(data):\n",
    "    \"\"\"Fill missing hours with the nearest available data\"\"\"\n",
    "    data_copy = data.copy()\n",
    "    data_copy = (\n",
    "        data_copy\n",
    "        .set_index(\"hr\")\n",
    "        .reindex(list(range(24)), method=\"nearest\")\n",
    "        .reset_index())\n",
    "    return data_copy"
   ]
  },
  {
   "cell_type": "code",
   "execution_count": 33,
   "id": "f280a4c4-9d20-4d87-a572-d51ec1aacf52",
   "metadata": {},
   "outputs": [
    {
     "data": {
      "text/html": [
       "<div>\n",
       "<style scoped>\n",
       "    .dataframe tbody tr th:only-of-type {\n",
       "        vertical-align: middle;\n",
       "    }\n",
       "\n",
       "    .dataframe tbody tr th {\n",
       "        vertical-align: top;\n",
       "    }\n",
       "\n",
       "    .dataframe thead th {\n",
       "        text-align: right;\n",
       "    }\n",
       "</style>\n",
       "<table border=\"1\" class=\"dataframe\">\n",
       "  <thead>\n",
       "    <tr style=\"text-align: right;\">\n",
       "      <th></th>\n",
       "      <th>hr</th>\n",
       "      <th>instant</th>\n",
       "      <th>dteday</th>\n",
       "      <th>season</th>\n",
       "      <th>yr</th>\n",
       "      <th>mnth</th>\n",
       "      <th>holiday</th>\n",
       "      <th>weekday</th>\n",
       "      <th>workingday</th>\n",
       "      <th>weathersit</th>\n",
       "      <th>temp</th>\n",
       "      <th>atemp</th>\n",
       "      <th>hum</th>\n",
       "      <th>windspeed</th>\n",
       "      <th>casual</th>\n",
       "      <th>registered</th>\n",
       "      <th>cnt</th>\n",
       "    </tr>\n",
       "  </thead>\n",
       "  <tbody>\n",
       "    <tr>\n",
       "      <th>0</th>\n",
       "      <td>0</td>\n",
       "      <td>1</td>\n",
       "      <td>2011-01-01</td>\n",
       "      <td>1</td>\n",
       "      <td>0</td>\n",
       "      <td>1</td>\n",
       "      <td>0</td>\n",
       "      <td>6</td>\n",
       "      <td>0</td>\n",
       "      <td>1</td>\n",
       "      <td>0.24</td>\n",
       "      <td>0.2879</td>\n",
       "      <td>0.81</td>\n",
       "      <td>0.0</td>\n",
       "      <td>3</td>\n",
       "      <td>13</td>\n",
       "      <td>16</td>\n",
       "    </tr>\n",
       "    <tr>\n",
       "      <th>1</th>\n",
       "      <td>1</td>\n",
       "      <td>2</td>\n",
       "      <td>2011-01-01</td>\n",
       "      <td>1</td>\n",
       "      <td>0</td>\n",
       "      <td>1</td>\n",
       "      <td>0</td>\n",
       "      <td>6</td>\n",
       "      <td>0</td>\n",
       "      <td>1</td>\n",
       "      <td>0.22</td>\n",
       "      <td>0.2727</td>\n",
       "      <td>0.80</td>\n",
       "      <td>0.0</td>\n",
       "      <td>8</td>\n",
       "      <td>32</td>\n",
       "      <td>40</td>\n",
       "    </tr>\n",
       "    <tr>\n",
       "      <th>2</th>\n",
       "      <td>2</td>\n",
       "      <td>3</td>\n",
       "      <td>2011-01-01</td>\n",
       "      <td>1</td>\n",
       "      <td>0</td>\n",
       "      <td>1</td>\n",
       "      <td>0</td>\n",
       "      <td>6</td>\n",
       "      <td>0</td>\n",
       "      <td>1</td>\n",
       "      <td>0.22</td>\n",
       "      <td>0.2727</td>\n",
       "      <td>0.80</td>\n",
       "      <td>0.0</td>\n",
       "      <td>5</td>\n",
       "      <td>27</td>\n",
       "      <td>32</td>\n",
       "    </tr>\n",
       "  </tbody>\n",
       "</table>\n",
       "</div>"
      ],
      "text/plain": [
       "   hr  instant      dteday  season  yr  mnth  holiday  weekday  workingday  \\\n",
       "0   0        1  2011-01-01       1   0     1        0        6           0   \n",
       "1   1        2  2011-01-01       1   0     1        0        6           0   \n",
       "2   2        3  2011-01-01       1   0     1        0        6           0   \n",
       "\n",
       "   weathersit  temp   atemp   hum  windspeed  casual  registered  cnt  \n",
       "0           1  0.24  0.2879  0.81        0.0       3          13   16  \n",
       "1           1  0.22  0.2727  0.80        0.0       8          32   40  \n",
       "2           1  0.22  0.2727  0.80        0.0       5          27   32  "
      ]
     },
     "execution_count": 33,
     "metadata": {},
     "output_type": "execute_result"
    }
   ],
   "source": [
    "# The hourly data has missing values, so fill them with the nearest available data\n",
    "hourly_df = hourly_df.groupby(\"dteday\").apply(nearest_fill_missing_hours).reset_index(drop=True)\n",
    "hourly_df.head(3)"
   ]
  },
  {
   "cell_type": "code",
   "execution_count": 34,
   "id": "92cd3f7c-3cfc-4c43-ba35-a6e2b3b6bde5",
   "metadata": {},
   "outputs": [],
   "source": [
    "# We'll need the total count on each day, it is the label\n",
    "count_by_day = hourly_df[[\"dteday\", \"cnt\"]].groupby(\"dteday\").sum()\n",
    "\n",
    "# Remove any unneeded columns\n",
    "hourly_df = hourly_df[feature_columns + [label_column]]\n",
    "preprocessed_hourly_df, hourly_label_scaler = preprocess_bikeshare_data(hourly_df, categorical_cols=categorical_columns, label_col=label_column)\n",
    "\n",
    "# Apply the MinMaxScaler to the daily counts\n",
    "count_by_day[\"cnt\"] = hourly_label_scaler.transform(np.array(count_by_day[\"cnt\"]).reshape(-1, 1))"
   ]
  },
  {
   "cell_type": "markdown",
   "id": "8894a2b7-cdda-4a35-bfc4-94331885a1ca",
   "metadata": {},
   "source": [
    "### 3.2 Split into Training, Validation, and Test Sets"
   ]
  },
  {
   "cell_type": "code",
   "execution_count": 35,
   "id": "50c8f081-c3f8-4366-be5d-e47fa57ed2b2",
   "metadata": {},
   "outputs": [
    {
     "name": "stdout",
     "output_type": "stream",
     "text": [
      "X shape: (17520, 24)\n",
      "y shape: (730,)\n"
     ]
    }
   ],
   "source": [
    "HOURS_PER_DAY = 24\n",
    "TOTAL_NUM_DAYS = len(hourly_df) / HOURS_PER_DAY\n",
    "\n",
    "# Input samples will be all except the hourly measurements taken on the last day,\n",
    "# because we don't have a label for that day (i.e., no data for the day after it)\n",
    "X_lstm = preprocessed_hourly_df.iloc[:-HOURS_PER_DAY, :].to_numpy()\n",
    "\n",
    "# Labels will be the sum of each 24 hour period. I.e., total ridership in one day.\n",
    "# CANNOT use the raw daily data for this, as hourly values have been nearest-filled\n",
    "y_lstm = np.apply_along_axis(sum, 1, np.array_split(np.array(preprocessed_hourly_df[\"cnt\"][HOURS_PER_DAY:]), TOTAL_NUM_DAYS - 1))\n",
    "\n",
    "print(f\"X shape: {X_lstm.shape}\")\n",
    "print(f\"y shape: {y_lstm.shape}\")"
   ]
  },
  {
   "cell_type": "code",
   "execution_count": 36,
   "id": "e21bde81-2413-4d86-b326-b0440403e55d",
   "metadata": {},
   "outputs": [],
   "source": [
    "# The test set will be the last 100 days of data\n",
    "lstm_train_set_size = len(X_lstm) - (HOURS_PER_DAY * 100)\n",
    "\n",
    "X_train_and_val_lstm = X_lstm[:lstm_train_set_size]\n",
    "y_train_and_val_lstm = y_lstm[:(lstm_train_set_size // HOURS_PER_DAY)]\n",
    "X_test_lstm = X_lstm[lstm_train_set_size:]\n",
    "y_test_lstm = y_lstm[(lstm_train_set_size // HOURS_PER_DAY):]"
   ]
  },
  {
   "cell_type": "code",
   "execution_count": 37,
   "id": "cdfb7371-25a7-439d-bb2c-e1be26dc3e26",
   "metadata": {},
   "outputs": [],
   "source": [
    "crossval_indices = create_timeseries_crossval_splits(X_train_and_val_lstm, n_splits=5)"
   ]
  },
  {
   "cell_type": "code",
   "execution_count": 38,
   "id": "e9f7e178-d445-4ab3-9be7-4d0690d9d4a9",
   "metadata": {},
   "outputs": [
    {
     "name": "stdout",
     "output_type": "stream",
     "text": [
      "There are 5 splits for LSTM timeseries cross validation\n"
     ]
    }
   ],
   "source": [
    "BATCH_SIZE=64\n",
    "\n",
    "lstm_datasets = []\n",
    "for train_indices, validation_indices in crossval_indices:\n",
    "    X_train = X_train_and_val_lstm[train_indices]\n",
    "    y_train = y_train_and_val_lstm[train_indices // HOURS_PER_DAY]\n",
    "    X_val = X_train_and_val_lstm[validation_indices]\n",
    "    y_val = y_train_and_val_lstm[validation_indices // HOURS_PER_DAY]\n",
    "    \n",
    "    train_dataset = timeseries_dataset_from_array(\n",
    "        data=X_train,\n",
    "        targets=y_train,\n",
    "        sequence_length=HOURS_PER_DAY,\n",
    "        batch_size=BATCH_SIZE)\n",
    "\n",
    "    validation_dataset = timeseries_dataset_from_array(\n",
    "        data=X_val,\n",
    "        targets=y_val,\n",
    "        sequence_length=HOURS_PER_DAY,\n",
    "        batch_size=BATCH_SIZE)\n",
    "\n",
    "    lstm_datasets.append((train_dataset, validation_dataset))\n",
    "    \n",
    "print(f\"There are {len(lstm_datasets)} splits for LSTM timeseries cross validation\")"
   ]
  },
  {
   "cell_type": "code",
   "execution_count": 39,
   "id": "000a407f-c1cd-4f8b-904b-8134805db417",
   "metadata": {},
   "outputs": [],
   "source": [
    "def build_lstm_model(input_shape, nodes_per_layer, lr):\n",
    "    \"\"\"Helper to enable trying different hyperparameters to find best configuration\n",
    "    \n",
    "    Args:\n",
    "        input_shape (tuple): Shape of the input tensors\n",
    "        nodes_per_layer (int): Number of nodes in each of the 2 hidden layers\n",
    "        lr (float): Learning rate\n",
    "    \n",
    "    Returns:\n",
    "        Sequential: A Keras Sequential LSTM model\n",
    "    \"\"\"\n",
    "    model = Sequential()\n",
    "    model.add(keras.Input(shape=input_shape))  # `None` indicates the sequence is of arbitrary length\n",
    "    model.add(LSTM(nodes_per_layer, return_sequences=True))\n",
    "    model.add(Dropout(0.15))\n",
    "    model.add(LSTM(nodes_per_layer))\n",
    "    model.add(Dropout(0.15))\n",
    "    model.add(Dense(1))\n",
    "    model.compile(optimizer=SGD(learning_rate=lr),\n",
    "                  loss=\"mean_squared_error\", \n",
    "                  metrics=[\"mse\"])\n",
    "    model.build()\n",
    "    return model"
   ]
  },
  {
   "cell_type": "code",
   "execution_count": 40,
   "id": "35b60602-6791-4b88-9583-a46b6ede0982",
   "metadata": {},
   "outputs": [],
   "source": [
    "LSTM_CONFIGURATIONS = [(16, 1e-3),\n",
    "                       (16, 1e-4),\n",
    "                       (32, 1e-3),\n",
    "                       (32, 1e-4)]\n",
    "\n",
    "FEATURE_VEC_SIZE = 24\n",
    "model = build_lstm_model(input_shape=(HOURS_PER_DAY, FEATURE_VEC_SIZE), nodes_per_layer=16, lr=1e-2)"
   ]
  },
  {
   "cell_type": "code",
   "execution_count": 41,
   "id": "5ee9c136-8bf1-4302-85c4-67bd60bb3542",
   "metadata": {},
   "outputs": [
    {
     "name": "stdout",
     "output_type": "stream",
     "text": [
      "Running cross validation with configuration: nodes=16, lr=0.001\n",
      "Running cross validation with configuration: nodes=16, lr=0.0001\n",
      "Running cross validation with configuration: nodes=32, lr=0.001\n",
      "Running cross validation with configuration: nodes=32, lr=0.0001\n",
      "CPU times: user 30min 7s, sys: 4min 24s, total: 34min 32s\n",
      "Wall time: 8min 46s\n"
     ]
    }
   ],
   "source": [
    "%%time\n",
    "configs_histories_rmse_models = []\n",
    "for nodes_per_layer, learning_rate in LSTM_CONFIGURATIONS:\n",
    "    print(f\"Running cross validation with configuration: nodes={nodes_per_layer}, lr={learning_rate}\")\n",
    "    histories = []\n",
    "    for i, (train_dataset, validation_dataset) in enumerate(lstm_datasets):\n",
    "        history = model.fit(train_dataset, epochs=10, validation_data=validation_dataset, verbose=0)\n",
    "        histories.append(history.history)\n",
    "    root_rmses = np.sqrt([hist[\"val_mse\"] for hist in histories])\n",
    "    avg_rmse = np.average(root_rmses)\n",
    "    configs_histories_rmse_models.append(((nodes_per_layer, learning_rate), histories[-1], avg_rmse, model))"
   ]
  },
  {
   "cell_type": "code",
   "execution_count": 42,
   "id": "d0e35497-e386-407f-9dff-3a7893ed59a2",
   "metadata": {},
   "outputs": [],
   "source": [
    "best_config, best_history, best_rmse, best_lstm_model = min(configs_histories_rmse_models, key = lambda t: t[2])"
   ]
  },
  {
   "cell_type": "code",
   "execution_count": 43,
   "id": "20ba957f-1a2b-47ed-a0e4-c4c4f755b956",
   "metadata": {},
   "outputs": [
    {
     "name": "stdout",
     "output_type": "stream",
     "text": [
      "(32, 0.0001)\n"
     ]
    }
   ],
   "source": [
    "print(best_config)"
   ]
  },
  {
   "cell_type": "markdown",
   "id": "f22ce1c8-699e-4d42-8333-2bffb9fea000",
   "metadata": {},
   "source": [
    "### 3.3 Evaluate the Best LSTM Model Configuration"
   ]
  },
  {
   "cell_type": "code",
   "execution_count": 45,
   "id": "752a4117-d9a2-42b2-b78f-59ba172c3e20",
   "metadata": {},
   "outputs": [],
   "source": [
    "eval_train_dataset = timeseries_dataset_from_array(\n",
    "    data=X_train_and_val_lstm[train_indices],\n",
    "    targets=y_train_and_val_lstm[train_indices // HOURS_PER_DAY],\n",
    "    sequence_length=HOURS_PER_DAY,\n",
    "    batch_size=BATCH_SIZE)\n",
    "\n",
    "eval_test_dataset = timeseries_dataset_from_array(\n",
    "    data=X_test_lstm,\n",
    "    targets=y_test_lstm,\n",
    "    sequence_length=HOURS_PER_DAY,\n",
    "    batch_size=BATCH_SIZE)"
   ]
  },
  {
   "cell_type": "code",
   "execution_count": 46,
   "id": "45b6928d-0afe-4562-8861-406a13a115ca",
   "metadata": {},
   "outputs": [],
   "source": [
    "def evaluate_lstm_model(dataset, model, scaler):\n",
    "    batch_errors = []\n",
    "    for X, y in dataset:\n",
    "        predictions = model(X).numpy()\n",
    "        rmse = np.average(mean_squared_error(y.numpy(), predictions, squared=False))\n",
    "        rmse = scaler.inverse_transform(rmse.reshape(-1, 1))\n",
    "        batch_errors.append(rmse)\n",
    "    return np.average(batch_errors)"
   ]
  },
  {
   "cell_type": "code",
   "execution_count": 47,
   "id": "c8e338f6-9ed9-430e-a2e9-904ed00f703a",
   "metadata": {},
   "outputs": [
    {
     "name": "stdout",
     "output_type": "stream",
     "text": [
      "2116.5316367095556\n",
      "2517.54977085916\n"
     ]
    }
   ],
   "source": [
    "best_lstm_model_rmse_train = evaluate_lstm_model(eval_train_dataset, best_lstm_model, hourly_label_scaler)\n",
    "best_lstm_model_rmse_test = evaluate_lstm_model(eval_test_dataset, best_lstm_model, hourly_label_scaler)\n",
    "\n",
    "print(best_lstm_model_rmse_train)\n",
    "print(best_lstm_model_rmse_test)\n",
    "\n",
    "BEST_MODEL_PERFORMANCES[\"lstm\"][\"train\"] = best_lstm_model_rmse_train\n",
    "BEST_MODEL_PERFORMANCES[\"lstm\"][\"test\"] = best_lstm_model_rmse_test"
   ]
  },
  {
   "cell_type": "code",
   "execution_count": 48,
   "id": "e2201572-aa4e-481f-95c2-2f8a3ac8e5d9",
   "metadata": {},
   "outputs": [
    {
     "data": {
      "text/plain": [
       "{'baseline': {'train': 1035.6402824583395, 'test': 1363.4416200491169},\n",
       " 'ridge': {'train': 969.015421603825, 'test': 1307.4153172253216},\n",
       " 'feedforward': {'train': 1434.8140897065398, 'test': 1621.794731646776},\n",
       " 'lstm': {'train': 2116.5316367095556, 'test': 2517.54977085916}}"
      ]
     },
     "execution_count": 48,
     "metadata": {},
     "output_type": "execute_result"
    }
   ],
   "source": [
    "BEST_MODEL_PERFORMANCES"
   ]
  },
  {
   "cell_type": "markdown",
   "id": "a7e8fd57-1961-46d1-8ba4-cb8d0ae34a73",
   "metadata": {},
   "source": [
    "# 4. Compare Performance of Best Models"
   ]
  },
  {
   "cell_type": "code",
   "execution_count": 49,
   "id": "08f1e703-00ea-4635-8be3-890ddf87c5aa",
   "metadata": {},
   "outputs": [
    {
     "data": {
      "image/png": "[encoded data removed]",
      "text/plain": [
       "<Figure size 640x480 with 1 Axes>"
      ]
     },
     "metadata": {},
     "output_type": "display_data"
    }
   ],
   "source": [
    "model_names = [\"baseline\", \"ridge\", \"feedforward\", \"lstm\"]\n",
    "all_train_rmses = [np.around(BEST_MODEL_PERFORMANCES[model_type][\"train\"]) for model_type in model_names]\n",
    "all_test_rmses = [np.around(BEST_MODEL_PERFORMANCES[model_type][\"test\"]) for model_type in model_names]\n",
    "\n",
    "fig, ax = plt.subplots()\n",
    "\n",
    "train_bars = ax.bar([0.9, 1.9, 2.9, 3.9], all_train_rmses, width=0.2, label=\"Train Set\")\n",
    "ax.bar_label(train_bars)\n",
    "test_bars = ax.bar([1.1, 2.1, 3.1, 4.1], all_test_rmses, width=0.2, label=\"Test Set\")\n",
    "ax.bar_label(test_bars)\n",
    "ax.set_title(\"Root Mean Squared Error of Best Models (Lower is Better)\")\n",
    "ax.set_xlabel(\"Model\")\n",
    "ax.set_ylabel(\"RMSE of Best Configuration\")\n",
    "ax.set_xticks([1, 2, 3, 4])\n",
    "ax.set_xticklabels([\"Baseline\", \"Ridge Regressor\", \"Feedforward NN\", \"LSTM\"])\n",
    "ax.legend()\n",
    "fig.savefig(\"best_model_performances.jpeg\")\n",
    "plt.show()\n"
   ]
  },
  {
   "cell_type": "code",
   "execution_count": null,
   "id": "1fa934e6-f648-4f63-831b-e906b6eb3dad",
   "metadata": {},
   "outputs": [],
   "source": []
  }
 ],
 "metadata": {
  "kernelspec": {
   "display_name": "ds4400_fp",
   "language": "python",
   "name": "ds4400_fp"
  },
  "language_info": {
   "codemirror_mode": {
    "name": "ipython",
    "version": 3
   },
   "file_extension": ".py",
   "mimetype": "text/x-python",
   "name": "python",
   "nbconvert_exporter": "python",
   "pygments_lexer": "ipython3",
   "version": "3.10.5"
  }
 },
 "nbformat": 4,
 "nbformat_minor": 5
}
